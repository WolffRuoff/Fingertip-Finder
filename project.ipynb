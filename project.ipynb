{
 "cells": [
  {
   "cell_type": "code",
   "execution_count": 1,
   "id": "48bb21fb-f9d7-4a36-88e2-5d2c3d977827",
   "metadata": {},
   "outputs": [],
   "source": [
    "import tensorflow as tf\n",
    "import torch\n",
    "import numpy as np\n",
    "import os\n",
    "import gc\n",
    "import random\n",
    "import torchvision.models as models\n",
    "import torch.nn as nn\n",
    "import matplotlib.pyplot as plt\n",
    "from torchvision import transforms\n",
    "from torch.utils.data import Dataset, DataLoader\n",
    "from PIL import Image"
   ]
  },
  {
   "cell_type": "code",
   "execution_count": 146,
   "id": "ee3e2e74-3933-4502-8d60-615e7e136108",
   "metadata": {},
   "outputs": [],
   "source": [
    "# create dataset and split into training, validation, and test sets\n",
    "\n",
    "# img_dir is the directory where the images are located\n",
    "# please modify as needed to match the folder structure\n",
    "img_dir = './training_data/color/'\n",
    "mask_dir = './training_data/mask/'\n",
    "\n",
    "data_filenames = os.listdir(img_dir)\n",
    "mask_filenames = os.listdir(mask_dir)\n",
    "img_paths = [img_dir + p for p in data_filenames]\n",
    "mask_paths = [mask_dir + p for p in mask_filenames]\n",
    "take_idx = np.arange(10000)\n",
    "np.random.shuffle(take_idx)\n",
    "img_paths = np.take(img_paths, take_idx)\n",
    "mask_paths = np.take(mask_paths, take_idx)\n",
    "img_train, mask_train = img_paths[:8000], mask_paths[:8000]\n",
    "img_val, mask_val = img_paths[8000:9000], mask_paths[8000:9000]\n",
    "img_test, mask_test = img_paths[9000:], mask_paths[9000:]\n",
    "\n",
    "class FingerDataset(Dataset):\n",
    "    def __init__(self, data_paths, mask_paths, img_transform=None, mask_transform=None):\n",
    "        data_filenames = os.listdir(img_dir)\n",
    "        self.data_paths = data_paths\n",
    "        self.mask_paths = mask_paths\n",
    "        self.img_transform = img_transform\n",
    "        # necessary if using transformations like rotation, flipping or cropping\n",
    "        # in which case need to apply to both image and mask\n",
    "        self.mask_transform = mask_transform\n",
    "    def __len__(self):\n",
    "        return len(self.mask_paths)\n",
    "\n",
    "    def __getitem__(self, idx):\n",
    "        img_path = self.data_paths[idx]\n",
    "        mask_path = self.mask_paths[idx]\n",
    "        image = Image.open(img_path)\n",
    "        mask = Image.open(mask_path)\n",
    "        if self.img_transform:\n",
    "            image = self.img_transform(image)\n",
    "        if self.mask_transform:\n",
    "            mask = self.mask_transform(mask)\n",
    "        return image, mask"
   ]
  },
  {
   "cell_type": "code",
   "execution_count": 147,
   "id": "c23b05fe-f377-4fe7-b346-6fd3a105c47a",
   "metadata": {},
   "outputs": [
    {
     "data": {
      "text/plain": [
       "array(['./training_data/color/color_img0007610.jpg',\n",
       "       './training_data/color/color_img0002327.jpg',\n",
       "       './training_data/color/color_img0009712.jpg', ...,\n",
       "       './training_data/color/color_img0005586.jpg',\n",
       "       './training_data/color/color_img0008423.jpg',\n",
       "       './training_data/color/color_img0002213.jpg'], dtype='<U42')"
      ]
     },
     "execution_count": 147,
     "metadata": {},
     "output_type": "execute_result"
    }
   ],
   "source": [
    "img_train"
   ]
  },
  {
   "cell_type": "code",
   "execution_count": 541,
   "id": "f9c2e836-0a8a-4f9e-86a2-b3d45106f887",
   "metadata": {},
   "outputs": [],
   "source": [
    "# Resize and CenterCrop accepts either PIL Image or Tensor. \n",
    "# Previous attempts to normalize tensor from torchvision.io.read_image yielded incorrect outputs\n",
    "# Use Pillow to read PIL image then convert to tensor worked well\n",
    "totensor = transforms.ToTensor()\n",
    "# # smaller edge of the image will be matched to 224\n",
    "# resize = transforms.Resize(224)\n",
    "# # center square crop of (250, 250)\n",
    "# crop = transforms.CenterCrop(250)\n",
    "# To use pretrained models, input must be normalized as follows (pytorch models documentation): \n",
    "normalize = transforms.Normalize(mean=[0.485, 0.456, 0.406], std=[0.229, 0.224, 0.225])\n",
    "\n",
    "# Data augmentation transforms:\n",
    "# applied randomly with probability p instead of explicitly appending transformed data to original dataset\n",
    "# which means the model will eventually be trained on the original + augmented dataset over many epochs\n",
    "grayscale = transforms.RandomGrayscale(p=0.1)\n",
    "# randomly changes the brightness, saturation, and other properties of an image\n",
    "jitter = transforms.ColorJitter(brightness=.4, hue=.2)\n",
    "\n",
    "# threshold the images with opencv to reduce noise and improve generalization\n",
    "# reference: https://docs.opencv.org/3.4/d7/d4d/tutorial_py_thresholding.html\n",
    "def threshold(img):\n",
    "    output = np.zeros(img.shape)\n",
    "    for i in range(3):\n",
    "        output[:,:,i] = cv.threshold(cv.GaussianBlur(img[:,:,i],(5,5),0),0,255,cv.THRESH_BINARY+cv.THRESH_OTSU)[1]\n",
    "    return output\n",
    "\n",
    "# used to break image into smaller tiles\n",
    "# reference: https://discuss.pytorch.org/t/split-an-image-into-four-equal-coordinates/84895\n",
    "def tile(img, vsize=40, hsize=40):\n",
    "    x = img.clone()\n",
    "    x = x.unfold(1, vsize, vsize)\n",
    "    x = x.unfold(2, hsize, hsize)\n",
    "    x = x.reshape(3, -1, vsize, hsize)\n",
    "    return x\n",
    "\n",
    "# compose the pre-processing and augmentation transforms\n",
    "composed_aug_transforms = transforms.Compose((grayscale, jitter, np.array, threshold, totensor, normalize, tile))\n",
    "# test data typically should not be augmented\n",
    "no_aug_transforms = transforms.Compose((threshold, totensor, normalize, tile))\n",
    "# mask also need to be converted to tensor\n",
    "mask_transform = transforms.Compose((totensor, tile))\n",
    "\n",
    "data_train = FingerDataset(img_train, mask_train, img_transform=composed_aug_transforms, mask_transform=mask_transform)\n",
    "data_val = FingerDataset(img_val, mask_val, img_transform=no_aug_transforms, mask_transform=mask_transform)\n",
    "data_test = FingerDataset(img_test, mask_test, img_transform=no_aug_transforms, mask_transform=mask_transform)\n",
    "\n",
    "# initialize dataloaders for the dataset\n",
    "loader_train = DataLoader(data_train, batch_size=16, shuffle=True, num_workers=0, drop_last=True)\n",
    "loader_val = DataLoader(data_val, batch_size=16, shuffle=True, num_workers=0, drop_last=True)\n",
    "loader_test = DataLoader(data_test, batch_size=16, shuffle=True, num_workers=0, drop_last=True)"
   ]
  },
  {
   "cell_type": "code",
   "execution_count": 542,
   "id": "b2c63c29-1d47-40af-97c1-a7f68a1ce72d",
   "metadata": {},
   "outputs": [
    {
     "name": "stdout",
     "output_type": "stream",
     "text": [
      "torch.Size([16, 3, 192, 40, 40])\n"
     ]
    },
    {
     "data": {
      "image/png": "[encoded data removed]",
      "text/plain": [
       "<Figure size 432x288 with 192 Axes>"
      ]
     },
     "metadata": {
      "needs_background": "light"
     },
     "output_type": "display_data"
    },
    {
     "data": {
      "image/png": "[encoded data removed]",
      "text/plain": [
       "<Figure size 432x288 with 192 Axes>"
      ]
     },
     "metadata": {
      "needs_background": "light"
     },
     "output_type": "display_data"
    },
    {
     "data": {
      "image/png": "[encoded data removed]",
      "text/plain": [
       "<Figure size 432x288 with 192 Axes>"
      ]
     },
     "metadata": {
      "needs_background": "light"
     },
     "output_type": "display_data"
    }
   ],
   "source": [
    "# plot single-channel tiles together\n",
    "def plot_tiles(img, num_tiles_v, num_tiles_h):\n",
    "    \n",
    "    v, h = num_tiles_v, num_tiles_h \n",
    "    fig, axs = plt.subplots(v, h) \n",
    "    for i in range(v):\n",
    "        for j in range(h):\n",
    "            # absolute is used because plt.imshow has odd habit of showing -0.0 as bright blocks\n",
    "            axs[i,j].imshow(np.absolute(img[i*h+j]))\n",
    "            axs[i,j].axis('off')\n",
    "    plt.subplots_adjust(wspace=0.05, hspace=0.05)\n",
    "   \n",
    "x, y = next(iter(loader_train))\n",
    "print(x.shape)\n",
    "tile_height, tile_width = 40, 40\n",
    "v, h = int(480/tile_height), int(640/tile_width)\n",
    "plot_tiles(x[0][0], v, h)\n",
    "plot_tiles(y[0][0], v, h)\n",
    "plot_tiles(x[0][0]*y[0][0], v, h)"
   ]
  },
  {
   "cell_type": "code",
   "execution_count": 543,
   "id": "2463bd27-d86e-43bc-9655-ae28f10dafe6",
   "metadata": {},
   "outputs": [
    {
     "data": {
      "text/plain": [
       "Linear(in_features=512, out_features=400, bias=True)"
      ]
     },
     "execution_count": 543,
     "metadata": {},
     "output_type": "execute_result"
    }
   ],
   "source": [
    "resnet18 = models.resnet18(pretrained=True)\n",
    "# replace last layer\n",
    "resnet18.fc = nn.Linear(512, 400)\n",
    "for param in resnet18.parameters():\n",
    "    param.require_grad = False\n",
    "resnet18.fc.requires_grad_(True)"
   ]
  },
  {
   "cell_type": "code",
   "execution_count": 178,
   "id": "75bf0833-bba4-4d95-bf97-a6df0731e9bf",
   "metadata": {},
   "outputs": [
    {
     "data": {
      "text/plain": [
       "ResNet(\n",
       "  (conv1): Conv2d(3, 64, kernel_size=(7, 7), stride=(2, 2), padding=(3, 3), bias=False)\n",
       "  (bn1): BatchNorm2d(64, eps=1e-05, momentum=0.1, affine=True, track_running_stats=True)\n",
       "  (relu): ReLU(inplace=True)\n",
       "  (maxpool): MaxPool2d(kernel_size=3, stride=2, padding=1, dilation=1, ceil_mode=False)\n",
       "  (layer1): Sequential(\n",
       "    (0): BasicBlock(\n",
       "      (conv1): Conv2d(64, 64, kernel_size=(3, 3), stride=(1, 1), padding=(1, 1), bias=False)\n",
       "      (bn1): BatchNorm2d(64, eps=1e-05, momentum=0.1, affine=True, track_running_stats=True)\n",
       "      (relu): ReLU(inplace=True)\n",
       "      (conv2): Conv2d(64, 64, kernel_size=(3, 3), stride=(1, 1), padding=(1, 1), bias=False)\n",
       "      (bn2): BatchNorm2d(64, eps=1e-05, momentum=0.1, affine=True, track_running_stats=True)\n",
       "    )\n",
       "    (1): BasicBlock(\n",
       "      (conv1): Conv2d(64, 64, kernel_size=(3, 3), stride=(1, 1), padding=(1, 1), bias=False)\n",
       "      (bn1): BatchNorm2d(64, eps=1e-05, momentum=0.1, affine=True, track_running_stats=True)\n",
       "      (relu): ReLU(inplace=True)\n",
       "      (conv2): Conv2d(64, 64, kernel_size=(3, 3), stride=(1, 1), padding=(1, 1), bias=False)\n",
       "      (bn2): BatchNorm2d(64, eps=1e-05, momentum=0.1, affine=True, track_running_stats=True)\n",
       "    )\n",
       "  )\n",
       "  (layer2): Sequential(\n",
       "    (0): BasicBlock(\n",
       "      (conv1): Conv2d(64, 128, kernel_size=(3, 3), stride=(2, 2), padding=(1, 1), bias=False)\n",
       "      (bn1): BatchNorm2d(128, eps=1e-05, momentum=0.1, affine=True, track_running_stats=True)\n",
       "      (relu): ReLU(inplace=True)\n",
       "      (conv2): Conv2d(128, 128, kernel_size=(3, 3), stride=(1, 1), padding=(1, 1), bias=False)\n",
       "      (bn2): BatchNorm2d(128, eps=1e-05, momentum=0.1, affine=True, track_running_stats=True)\n",
       "      (downsample): Sequential(\n",
       "        (0): Conv2d(64, 128, kernel_size=(1, 1), stride=(2, 2), bias=False)\n",
       "        (1): BatchNorm2d(128, eps=1e-05, momentum=0.1, affine=True, track_running_stats=True)\n",
       "      )\n",
       "    )\n",
       "    (1): BasicBlock(\n",
       "      (conv1): Conv2d(128, 128, kernel_size=(3, 3), stride=(1, 1), padding=(1, 1), bias=False)\n",
       "      (bn1): BatchNorm2d(128, eps=1e-05, momentum=0.1, affine=True, track_running_stats=True)\n",
       "      (relu): ReLU(inplace=True)\n",
       "      (conv2): Conv2d(128, 128, kernel_size=(3, 3), stride=(1, 1), padding=(1, 1), bias=False)\n",
       "      (bn2): BatchNorm2d(128, eps=1e-05, momentum=0.1, affine=True, track_running_stats=True)\n",
       "    )\n",
       "  )\n",
       "  (layer3): Sequential(\n",
       "    (0): BasicBlock(\n",
       "      (conv1): Conv2d(128, 256, kernel_size=(3, 3), stride=(2, 2), padding=(1, 1), bias=False)\n",
       "      (bn1): BatchNorm2d(256, eps=1e-05, momentum=0.1, affine=True, track_running_stats=True)\n",
       "      (relu): ReLU(inplace=True)\n",
       "      (conv2): Conv2d(256, 256, kernel_size=(3, 3), stride=(1, 1), padding=(1, 1), bias=False)\n",
       "      (bn2): BatchNorm2d(256, eps=1e-05, momentum=0.1, affine=True, track_running_stats=True)\n",
       "      (downsample): Sequential(\n",
       "        (0): Conv2d(128, 256, kernel_size=(1, 1), stride=(2, 2), bias=False)\n",
       "        (1): BatchNorm2d(256, eps=1e-05, momentum=0.1, affine=True, track_running_stats=True)\n",
       "      )\n",
       "    )\n",
       "    (1): BasicBlock(\n",
       "      (conv1): Conv2d(256, 256, kernel_size=(3, 3), stride=(1, 1), padding=(1, 1), bias=False)\n",
       "      (bn1): BatchNorm2d(256, eps=1e-05, momentum=0.1, affine=True, track_running_stats=True)\n",
       "      (relu): ReLU(inplace=True)\n",
       "      (conv2): Conv2d(256, 256, kernel_size=(3, 3), stride=(1, 1), padding=(1, 1), bias=False)\n",
       "      (bn2): BatchNorm2d(256, eps=1e-05, momentum=0.1, affine=True, track_running_stats=True)\n",
       "    )\n",
       "  )\n",
       "  (layer4): Sequential(\n",
       "    (0): BasicBlock(\n",
       "      (conv1): Conv2d(256, 512, kernel_size=(3, 3), stride=(2, 2), padding=(1, 1), bias=False)\n",
       "      (bn1): BatchNorm2d(512, eps=1e-05, momentum=0.1, affine=True, track_running_stats=True)\n",
       "      (relu): ReLU(inplace=True)\n",
       "      (conv2): Conv2d(512, 512, kernel_size=(3, 3), stride=(1, 1), padding=(1, 1), bias=False)\n",
       "      (bn2): BatchNorm2d(512, eps=1e-05, momentum=0.1, affine=True, track_running_stats=True)\n",
       "      (downsample): Sequential(\n",
       "        (0): Conv2d(256, 512, kernel_size=(1, 1), stride=(2, 2), bias=False)\n",
       "        (1): BatchNorm2d(512, eps=1e-05, momentum=0.1, affine=True, track_running_stats=True)\n",
       "      )\n",
       "    )\n",
       "    (1): BasicBlock(\n",
       "      (conv1): Conv2d(512, 512, kernel_size=(3, 3), stride=(1, 1), padding=(1, 1), bias=False)\n",
       "      (bn1): BatchNorm2d(512, eps=1e-05, momentum=0.1, affine=True, track_running_stats=True)\n",
       "      (relu): ReLU(inplace=True)\n",
       "      (conv2): Conv2d(512, 512, kernel_size=(3, 3), stride=(1, 1), padding=(1, 1), bias=False)\n",
       "      (bn2): BatchNorm2d(512, eps=1e-05, momentum=0.1, affine=True, track_running_stats=True)\n",
       "    )\n",
       "  )\n",
       "  (avgpool): AdaptiveAvgPool2d(output_size=(1, 1))\n",
       "  (fc): Linear(in_features=512, out_features=1000, bias=True)\n",
       ")"
      ]
     },
     "execution_count": 178,
     "metadata": {},
     "output_type": "execute_result"
    }
   ],
   "source": []
  },
  {
   "cell_type": "code",
   "execution_count": null,
   "id": "385f4152-6170-4880-b339-b5d5c53699a3",
   "metadata": {},
   "outputs": [],
   "source": []
  }
 ],
 "metadata": {
  "kernelspec": {
   "display_name": "Python 3 (ipykernel)",
   "language": "python",
   "name": "python3"
  },
  "language_info": {
   "codemirror_mode": {
    "name": "ipython",
    "version": 3
   },
   "file_extension": ".py",
   "mimetype": "text/x-python",
   "name": "python",
   "nbconvert_exporter": "python",
   "pygments_lexer": "ipython3",
   "version": "3.9.5"
  }
 },
 "nbformat": 4,
 "nbformat_minor": 5
}
