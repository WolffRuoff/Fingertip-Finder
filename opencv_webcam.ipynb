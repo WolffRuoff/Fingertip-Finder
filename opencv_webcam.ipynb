{
 "cells": [
  {
   "cell_type": "code",
   "execution_count": 1,
   "id": "467e3c7f-0104-4450-87c0-fc320d173352",
   "metadata": {},
   "outputs": [
    {
     "name": "stdout",
     "output_type": "stream",
     "text": [
      "Device: cpu\n"
     ]
    }
   ],
   "source": [
    "import numpy as np\n",
    "import torch\n",
    "import torchvision.models as models\n",
    "import torch.nn as nn\n",
    "import matplotlib.pyplot as plt\n",
    "import cv2\n",
    "\n",
    "import trainer\n",
    "import finger_trainer\n",
    "import visualizer\n",
    "\n",
    "from PIL import Image\n",
    "from dataloader import unnormalize\n",
    "from torchvision import transforms\n",
    "\n",
    "device = 'cuda' if torch.cuda.is_available() else 'cpu'\n",
    "print('Device:', device)"
   ]
  },
  {
   "cell_type": "code",
   "execution_count": 2,
   "id": "6e8dfbce-e4a9-4e2c-86f6-d44b8d2763c8",
   "metadata": {},
   "outputs": [],
   "source": [
    "model1 = models.resnet18(pretrained=True)\n",
    "model1.fc = nn.Linear(512, 480*640)\n",
    "\n",
    "model1.load_state_dict(torch.load('saved_models/resnet18_notile_full.model', map_location=torch.device(device)))\n",
    "model1 = model1.to(device)\n",
    "\n",
    "#model1.load_state_dict(torch.load('saved_models/resnet18_notile.model', map_location=torch.device(device)))\n",
    "#model1 = model1.to(device)"
   ]
  },
  {
   "cell_type": "code",
   "execution_count": 3,
   "id": "562ef0c2-8d9d-443f-8649-234e8a1a0945",
   "metadata": {},
   "outputs": [],
   "source": [
    "# test with static training data\n",
    "testimg = np.array(Image.open('training_data/color/color_img0000046.jpg'))\n",
    "\n",
    "cap = cv2.VideoCapture(0)\n",
    "\n",
    "# window should pop up\n",
    "while True:\n",
    "    check, frame = cap.read()\n",
    "    img, output = visualizer.get_img_output(testimg, model1, device)\n",
    "    img = unnormalize(img).permute(1, 2, 0).numpy()\n",
    "    output = output.numpy().astype(np.float32)\n",
    "\n",
    "    try:\n",
    "        # show pre-processed and unnormalized input image as video feed\n",
    "        cv2.imshow('img', img)\n",
    "\n",
    "        # show output as video feed\n",
    "        cv2.imshow('output', output)\n",
    "        \n",
    "    except Exception as e:\n",
    "        print(e)\n",
    "        break\n",
    "        \n",
    "    key = cv2.waitKey(1)\n",
    "    \n",
    "    # break video capture when esc is pressed\n",
    "    if key == 27:\n",
    "        break\n",
    "\n",
    "# release webcam and close the windows\n",
    "cap.release()\n",
    "cv2.destroyAllWindows()"
   ]
  },
  {
   "cell_type": "code",
   "execution_count": 4,
   "id": "8227eeb0-f6b7-460c-a42a-b7d68d7e1455",
   "metadata": {},
   "outputs": [],
   "source": [
    "# access webcam using opencv\n",
    "# Reference: https://medium.com/@unknown.underme/opening-webcam-using-opencv-257ac258e217\n",
    "\n",
    "cap = cv2.VideoCapture(0)\n",
    "\n",
    "# window should pop up\n",
    "while True:\n",
    "    check, frame = cap.read()\n",
    "    frame = cv2.resize(frame, (640, 480), interpolation = cv2.INTER_AREA)\n",
    "    img, output = visualizer.get_img_output(frame, model1, device)\n",
    "    img = unnormalize(img).permute(1, 2, 0).numpy()\n",
    "    output = output.numpy().astype(np.float32)\n",
    "\n",
    "    try:\n",
    "        # show pre-processed and unnormalized input image as video feed\n",
    "        cv2.imshow('img', img)\n",
    "\n",
    "        # show output as video feed\n",
    "        cv2.imshow('output', output)\n",
    "        \n",
    "    except Exception as e:\n",
    "        print(e)\n",
    "        break\n",
    "        \n",
    "    key = cv2.waitKey(1)\n",
    "    \n",
    "    # break video capture when esc is pressed\n",
    "    if key == 27:\n",
    "        break\n",
    "\n",
    "# release webcam and close the windows\n",
    "cap.release()\n",
    "cv2.destroyAllWindows()"
   ]
  },
  {
   "cell_type": "code",
   "execution_count": null,
   "id": "78dd50ce-4ddc-443d-bc89-59753beba6df",
   "metadata": {},
   "outputs": [],
   "source": []
  }
 ],
 "metadata": {
  "kernelspec": {
   "display_name": "Python 3 (ipykernel)",
   "language": "python",
   "name": "python3"
  },
  "language_info": {
   "codemirror_mode": {
    "name": "ipython",
    "version": 3
   },
   "file_extension": ".py",
   "mimetype": "text/x-python",
   "name": "python",
   "nbconvert_exporter": "python",
   "pygments_lexer": "ipython3",
   "version": "3.9.7"
  }
 },
 "nbformat": 4,
 "nbformat_minor": 5
}
