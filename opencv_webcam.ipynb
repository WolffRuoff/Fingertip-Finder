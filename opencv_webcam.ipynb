{
 "cells": [
  {
   "cell_type": "code",
   "execution_count": 1,
   "id": "467e3c7f-0104-4450-87c0-fc320d173352",
   "metadata": {},
   "outputs": [
    {
     "name": "stdout",
     "output_type": "stream",
     "text": [
      "Device: cuda\n",
      "Linear(in_features=512, out_features=307200, bias=True)\n",
      "Device: cuda\n"
     ]
    }
   ],
   "source": [
    "import numpy as np\n",
    "import torch\n",
    "import cv2\n",
    "\n",
    "import visualizer\n",
    "import fingertip_finder\n",
    "\n",
    "from PIL import Image\n",
    "from dataloader import unnormalize\n",
    "import time\n",
    "\n",
    "device = 'cuda' if torch.cuda.is_available() else 'cpu'\n",
    "print('Device:', device)"
   ]
  },
  {
   "cell_type": "code",
   "execution_count": 2,
   "id": "562ef0c2-8d9d-443f-8649-234e8a1a0945",
   "metadata": {},
   "outputs": [
    {
     "data": {
      "text/plain": [
       "-1"
      ]
     },
     "execution_count": 2,
     "metadata": {},
     "output_type": "execute_result"
    }
   ],
   "source": [
    "# test with static training data\n",
    "testimg = np.array(Image.open('training_data/color/color_img0000046.jpg'))\n",
    "\n",
    "cap = cv2.VideoCapture(0)\n",
    "cv2.startWindowThread()\n",
    "# window should pop up\n",
    "while True:\n",
    "    check, frame = cap.read()\n",
    "    frame = testimg.copy()\n",
    "    prediction, fingertip_coor = fingertip_finder.find_fingertip(testimg.copy())\n",
    "    #img = unnormalize(img).permute(1, 2, 0).numpy()\n",
    "    #output = output.numpy().astype(np.float32)\n",
    "\n",
    "    try:\n",
    "        # show pre-processed and unnormalized input image as video feed\n",
    "        cv2.imshow('img', testimg)\n",
    "\n",
    "        # show output as video feed\n",
    "        cv2.imshow('output', prediction)\n",
    "        \n",
    "    except Exception as e:\n",
    "        print(e)\n",
    "        break\n",
    "        \n",
    "    key = cv2.waitKey(1)\n",
    "    \n",
    "    # break video capture when esc is pressed\n",
    "    if key == 27:\n",
    "        break\n",
    "# release webcam and close the windows\n",
    "cap.release()\n",
    "cv2.destroyAllWindows()\n",
    "cv2.waitKey(1)"
   ]
  },
  {
   "cell_type": "code",
   "execution_count": 2,
   "id": "8227eeb0-f6b7-460c-a42a-b7d68d7e1455",
   "metadata": {},
   "outputs": [
    {
     "name": "stdout",
     "output_type": "stream",
     "text": [
      "(0, 0)        \r"
     ]
    },
    {
     "data": {
      "text/plain": [
       "-1"
      ]
     },
     "execution_count": 2,
     "metadata": {},
     "output_type": "execute_result"
    }
   ],
   "source": [
    "# access webcam using opencv\n",
    "# Reference: https://medium.com/@unknown.underme/opening-webcam-using-opencv-257ac258e217\n",
    "\n",
    "font = cv2.FONT_HERSHEY_SIMPLEX\n",
    "frame_time0 = 0\n",
    "frame_time1 = 0\n",
    "\n",
    "cap = cv2.VideoCapture(0)\n",
    "# window should pop up\n",
    "while True:\n",
    "    check, frame = cap.read()\n",
    "    prediction, coor = fingertip_finder.find_fingertip(frame.copy())\n",
    "\n",
    "    frame_time1 = time.time()\n",
    "    fps = 1/(frame_time1-frame_time0)\n",
    "    frame_time0 = frame_time1\n",
    "    fps = str(int(fps))\n",
    "    cv2.putText(prediction, fps, (7, 70), font, 2, (255, 0, 0), 3, cv2.LINE_AA)\n",
    "    try:\n",
    "        # show pre-processed and unnormalized input image as video feed\n",
    "        cv2.imshow('img', frame)\n",
    "        print(str(coor) + '    ', end='\\r')\n",
    "\n",
    "        # show output as video feed\n",
    "        cv2.imshow('output', prediction)\n",
    "        \n",
    "    except Exception as e:\n",
    "        print(e)\n",
    "        break\n",
    "        \n",
    "    key = cv2.waitKey(1)\n",
    "    \n",
    "    # break video capture when esc is pressed\n",
    "    if key == 27:\n",
    "        break\n",
    "\n",
    "# release webcam and close the windows\n",
    "cap.release()\n",
    "cv2.destroyAllWindows()\n",
    "cv2.waitKey(1)"
   ]
  },
  {
   "cell_type": "code",
   "execution_count": null,
   "id": "78dd50ce-4ddc-443d-bc89-59753beba6df",
   "metadata": {},
   "outputs": [],
   "source": []
  }
 ],
 "metadata": {
  "kernelspec": {
   "display_name": "Python 3 (ipykernel)",
   "language": "python",
   "name": "python3"
  },
  "language_info": {
   "codemirror_mode": {
    "name": "ipython",
    "version": 3
   },
   "file_extension": ".py",
   "mimetype": "text/x-python",
   "name": "python",
   "nbconvert_exporter": "python",
   "pygments_lexer": "ipython3",
   "version": "3.8.12"
  }
 },
 "nbformat": 4,
 "nbformat_minor": 5
}
